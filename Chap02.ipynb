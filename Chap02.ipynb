{
  "nbformat": 4,
  "nbformat_minor": 0,
  "metadata": {
    "colab": {
      "name": "Chap02",
      "provenance": [],
      "collapsed_sections": [],
      "authorship_tag": "ABX9TyM+Elq6QxfNYfZRrFeuMVJF",
      "include_colab_link": true
    },
    "kernelspec": {
      "name": "python3",
      "display_name": "Python 3"
    },
    "language_info": {
      "name": "python"
    }
  },
  "cells": [
    {
      "cell_type": "markdown",
      "metadata": {
        "id": "view-in-github",
        "colab_type": "text"
      },
      "source": [
        "<a href=\"https://colab.research.google.com/github/sota-ogawa/TU-math-study/blob/main/Chap02.ipynb\" target=\"_parent\"><img src=\"https://colab.research.google.com/assets/colab-badge.svg\" alt=\"Open In Colab\"/></a>"
      ]
    },
    {
      "cell_type": "code",
      "execution_count": null,
      "metadata": {
        "colab": {
          "base_uri": "https://localhost:8080/"
        },
        "id": "CX1cvPVZ2n7T",
        "outputId": "ccfe7c9c-08e3-4019-c412-3b5ca8338a9c"
      },
      "outputs": [
        {
          "output_type": "stream",
          "name": "stdout",
          "text": [
            "[0.23712319 0.95266896 0.62891288 ... 0.39327911 0.54301231 0.84945896]\n",
            "[0.58801463 0.77603209 0.91867957 ... 0.58043091 0.68751863 0.11944325]\n"
          ]
        }
      ],
      "source": [
        "#Chap02_Cm-01\n",
        "import math\n",
        "import numpy as np\n",
        "\n",
        "x = np.random.uniform(0.0,1.0,10000)\n",
        "y = np.random.uniform(0.0,1.0,10000)\n",
        "print(x)\n",
        "print(y)"
      ]
    },
    {
      "cell_type": "code",
      "source": [
        "#Chap02_Cm-02\n",
        "import math \n",
        "import matplotlib.pyplot as plt\n",
        "\n",
        "\n",
        "#試行回数\n",
        "N = 10000\n",
        "\n",
        "#円内の(x,y)\n",
        "x_in = []\n",
        "y_in = []\n",
        "#円外の(x,y)\n",
        "x_out = []\n",
        "y_out = []\n",
        "\n",
        "#x,yの乱数\n",
        "x = np.random.uniform(0.0,1.0,N)\n",
        "y = np.random.uniform(0.0,1.0,N)\n",
        "\n",
        "point_in = 0\n",
        "point_out = 0\n",
        "\n",
        "\n",
        "for i in range(0,N):\n",
        " r = math.hypot(x[i],y[i])\n",
        " if r <= 1:\n",
        "    point_in += 1 \n",
        "    x_in.append(x[i])\n",
        "    y_in.append(y[i])\n",
        "\n",
        "\n",
        " else:\n",
        "    point_out += 1\n",
        "    x_out.append(x[i])\n",
        "    y_out.append(y[i])\n",
        "\n",
        "print('円内の点:',point_in)\n",
        "print('円外の点:',point_out)\n",
        "\n",
        "plt.figure(figsize=(4,4))\n",
        "plt.scatter(x_in,y_in,color=\"r\")\n",
        "plt.scatter(x_out,y_out,color=\"b\")\n"
      ],
      "metadata": {
        "colab": {
          "base_uri": "https://localhost:8080/",
          "height": 319
        },
        "id": "PqFrB4Sr2uS3",
        "outputId": "940f9f1f-d7f0-4b27-e153-86f8a8e178b5"
      },
      "execution_count": null,
      "outputs": [
        {
          "output_type": "stream",
          "name": "stdout",
          "text": [
            "円内の点: 7931\n",
            "円外の点: 2069\n"
          ]
        },
        {
          "output_type": "execute_result",
          "data": {
            "text/plain": [
              "<matplotlib.collections.PathCollection at 0x7f1b26dcc210>"
            ]
          },
          "metadata": {},
          "execution_count": 4
        },
        {
          "output_type": "display_data",
          "data": {
            "text/plain": [
              "<Figure size 288x288 with 1 Axes>"
            ],
            "image/png": "[encoded data removed]"
          },
          "metadata": {
            "needs_background": "light"
          }
        }
      ]
    },
    {
      "cell_type": "code",
      "source": [
        "#Chap02_Cm-03\n",
        "print(\"円周率:\",4.0*point_in/N)"
      ],
      "metadata": {
        "colab": {
          "base_uri": "https://localhost:8080/"
        },
        "id": "8L1f5peA2zVY",
        "outputId": "1ff66675-59e4-4660-a77d-8fcbad984bc5"
      },
      "execution_count": null,
      "outputs": [
        {
          "output_type": "stream",
          "name": "stdout",
          "text": [
            "円周率: 3.1724\n"
          ]
        }
      ]
    },
    {
      "cell_type": "code",
      "source": [
        ""
      ],
      "metadata": {
        "id": "TbXgSLE226PP"
      },
      "execution_count": null,
      "outputs": []
    }
  ]
}