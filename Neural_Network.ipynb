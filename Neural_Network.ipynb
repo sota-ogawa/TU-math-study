{
  "nbformat": 4,
  "nbformat_minor": 0,
  "metadata": {
    "colab": {
      "name": "Neural Network",
      "provenance": [],
      "collapsed_sections": [],
      "authorship_tag": "ABX9TyOGqDO3lcbrLZyGFxVfy/iN",
      "include_colab_link": true
    },
    "kernelspec": {
      "name": "python3",
      "display_name": "Python 3"
    },
    "language_info": {
      "name": "python"
    }
  },
  "cells": [
    {
      "cell_type": "markdown",
      "metadata": {
        "id": "view-in-github",
        "colab_type": "text"
      },
      "source": [
        "<a href=\"https://colab.research.google.com/github/sota-ogawa/TU-math-study/blob/main/Neural_Network.ipynb\" target=\"_parent\"><img src=\"https://colab.research.google.com/assets/colab-badge.svg\" alt=\"Open In Colab\"/></a>"
      ]
    },
    {
      "cell_type": "code",
      "execution_count": 1,
      "metadata": {
        "colab": {
          "base_uri": "https://localhost:8080/",
          "height": 36
        },
        "id": "VWeVeJOxZ1d_",
        "outputId": "7f7ee743-0637-45bf-ad1e-8be076d17978"
      },
      "outputs": [
        {
          "output_type": "execute_result",
          "data": {
            "text/plain": [
              "'%.3f'"
            ],
            "application/vnd.google.colaboratory.intrinsic+json": {
              "type": "string"
            }
          },
          "metadata": {},
          "execution_count": 1
        }
      ],
      "source": [
        "# データ加工・処理・分析ライブラリ\n",
        "import numpy as np\n",
        "import numpy.random as random\n",
        "import scipy as sp\n",
        "from pandas import Series,DataFrame\n",
        "import pandas as pd\n",
        "\n",
        "# 可視化ライブラリ\n",
        "import matplotlib.pyplot as plt\n",
        "import matplotlib as mpl\n",
        "import seaborn as sns\n",
        "%matplotlib inline\n",
        "sns.set()\n",
        "\n",
        "# 機械学習ライブラリ\n",
        "import sklearn\n",
        "\n",
        "# 小数第3位まで表示\n",
        "%precision 3"
      ]
    },
    {
      "cell_type": "code",
      "source": [
        "# 必要なライブラリ等のインポート\n",
        "from sklearn.datasets import load_breast_cancer\n",
        "from sklearn.tree import  DecisionTreeClassifier\n",
        "from sklearn.model_selection import cross_val_score\n",
        "\n",
        "# 乳がんのデータを読み込み\n",
        "cancer = load_breast_cancer()\n",
        "\n",
        "# 決定木クラスの初期化\n",
        "tree = DecisionTreeClassifier(criterion='entropy', max_depth=3, random_state=0)\n",
        "\n",
        "# k分割交差検証の実行\n",
        "scores = cross_val_score(tree, cancer.data, cancer.target, cv=5)\n",
        "\n",
        "# 結果の表示\n",
        "print('Cross validation scores: {}'.format(scores))\n",
        "print('Cross validation scores: {:.3f}+-{:.3f}'.format(scores.mean(), scores.std()))"
      ],
      "metadata": {
        "colab": {
          "base_uri": "https://localhost:8080/"
        },
        "id": "WBG5CmBPZ8b9",
        "outputId": "c68325e1-b6e5-498b-c593-232b2499e072"
      },
      "execution_count": 2,
      "outputs": [
        {
          "output_type": "stream",
          "name": "stdout",
          "text": [
            "Cross validation scores: [0.904 0.912 0.956 0.939 0.956]\n",
            "Cross validation scores: 0.933+-0.022\n"
          ]
        }
      ]
    },
    {
      "cell_type": "code",
      "source": [
        "# インポート\n",
        "from sklearn.svm import SVC\n",
        "from sklearn.model_selection import train_test_split\n",
        "\n",
        "# 乳がんのデータを読み込み\n",
        "cancer = load_breast_cancer()\n",
        "\n",
        "# 訓練データとテストデータに分ける \n",
        "X_train, X_test, y_train, y_test = train_test_split(cancer.data,\n",
        "                                                    cancer.target,\n",
        "                                                    stratify = cancer.target,\n",
        "                                                    random_state=0)\n",
        "\n",
        "# ハイパーパラメータのすべての組み合わせでモデルを構築・検証\n",
        "scores = {}\n",
        "for gamma in np.logspace(-3, 2, num=6):\n",
        "    for C in np.logspace(-3, 2, num=6):\n",
        "        svm = SVC(gamma=gamma, C=C)\n",
        "        svm.fit(X_train,y_train)\n",
        "        scores[(gamma, C)] = svm.score(X_test, y_test)\n",
        "\n",
        "# 検証結果をscoresに格納 \n",
        "scores = pd.Series(scores)\n",
        "\n",
        "# 表示\n",
        "print('ベストスコア:{:.2f}'.format(scores.max()))\n",
        "print('その時のパラメータ(gamma, C):{}'.format(scores.idxmax()))\n",
        "\n",
        "# ヒートマップを表示。縦軸にgamma、横軸にCを表示\n",
        "sns.heatmap(scores.unstack())"
      ],
      "metadata": {
        "colab": {
          "base_uri": "https://localhost:8080/",
          "height": 322
        },
        "id": "hAA4Cw-baATJ",
        "outputId": "dcacc5ef-ebf8-43c9-edf8-44dc2133cfd1"
      },
      "execution_count": 3,
      "outputs": [
        {
          "output_type": "stream",
          "name": "stdout",
          "text": [
            "ベストスコア:0.91\n",
            "その時のパラメータ(gamma, C):(0.001, 1.0)\n"
          ]
        },
        {
          "output_type": "execute_result",
          "data": {
            "text/plain": [
              "<matplotlib.axes._subplots.AxesSubplot at 0x7f8e85628410>"
            ]
          },
          "metadata": {},
          "execution_count": 3
        },
        {
          "output_type": "display_data",
          "data": {
            "text/plain": [
              "<Figure size 432x288 with 2 Axes>"
            ],
            "image/png": "[encoded data removed]"
          },
          "metadata": {
            "needs_background": "light"
          }
        }
      ]
    },
    {
      "cell_type": "code",
      "source": [
        "import numpy as np \n",
        "from sklearn.datasets import load_iris \n",
        "from sklearn.linear_model import Perceptron\n",
        "from sklearn.model_selection import train_test_split\n",
        "from sklearn.metrics import accuracy_score\n"
      ],
      "metadata": {
        "id": "2MEQCuEWaG-H"
      },
      "execution_count": 4,
      "outputs": []
    },
    {
      "cell_type": "code",
      "source": [
        "#データセットをロード\n",
        "iris = load_iris()\n",
        "#predictor と　target に分ける\n",
        "X = iris.data\n",
        "#Iris Setosaが１の値をとり、それ以外は０\n",
        "Y = (iris.target==0).astype(int)"
      ],
      "metadata": {
        "id": "MXIu3uCbdAOk"
      },
      "execution_count": 5,
      "outputs": []
    },
    {
      "cell_type": "code",
      "source": [
        "#データセットのシャッフルをして、トレーニング用とテスト用のデータに分ける\n",
        "#モデルの評価をしっかりやりたい時は、cross validationを実行、さらにハイパーパラメータの最適化を行う\n",
        "train_X, test_X, train_Y, test_Y = train_test_split(X,Y,test_size = 0.3, random_state=42, shuffle=True)"
      ],
      "metadata": {
        "id": "Nu6RHKL6dEXt"
      },
      "execution_count": 6,
      "outputs": []
    },
    {
      "cell_type": "code",
      "source": [
        "#トレーニング\n",
        "perc_clf = Perceptron()\n",
        "perc_clf.fit(train_X,train_Y)"
      ],
      "metadata": {
        "colab": {
          "base_uri": "https://localhost:8080/"
        },
        "id": "DBqCCXzSdHVw",
        "outputId": "751b42ac-2ef0-448a-f33f-3cb2e99d19ec"
      },
      "execution_count": 7,
      "outputs": [
        {
          "output_type": "execute_result",
          "data": {
            "text/plain": [
              "Perceptron()"
            ]
          },
          "metadata": {},
          "execution_count": 7
        }
      ]
    },
    {
      "cell_type": "code",
      "source": [
        "#テスト\n",
        "predictions  = perc_clf.predict(test_X)"
      ],
      "metadata": {
        "id": "8z6gDNv8dapK"
      },
      "execution_count": 8,
      "outputs": []
    },
    {
      "cell_type": "code",
      "source": [
        "#Accuracyを計算\n",
        "print(\"Accuracy: \" +str(accuracy_score(test_Y,predictions))) \n"
      ],
      "metadata": {
        "colab": {
          "base_uri": "https://localhost:8080/"
        },
        "id": "x49ZChgMdtEC",
        "outputId": "7a84c4e6-a9d0-4614-8f73-04151a58a702"
      },
      "execution_count": 9,
      "outputs": [
        {
          "output_type": "stream",
          "name": "stdout",
          "text": [
            "Accuracy: 1.0\n"
          ]
        }
      ]
    },
    {
      "cell_type": "code",
      "source": [
        "from sklearn.datasets import load_iris\n",
        "from sklearn.neural_network import MLPClassifier\n",
        "from sklearn.model_selection import train_test_split\n",
        "from sklearn.metrics import accuracy_score\n",
        "#データセットをロード\n",
        "iris = load_iris()\n",
        "#predictor と　target に分ける\n",
        "X = iris.data \n",
        "Y = iris.target"
      ],
      "metadata": {
        "id": "NmBP__bMdu0d"
      },
      "execution_count": 10,
      "outputs": []
    },
    {
      "cell_type": "code",
      "source": [
        "#データセットのシャッフルをして、トレーニング用とテスト用のデータに分ける\n",
        "#モデルの評価をしっかりやりたい時は、validationのデータセットを作るのが良い。\n",
        "train_X, test_X, train_Y, test_Y = train_test_split(X,Y,test_size = 0.3, random_state=42, shuffle=True)\n"
      ],
      "metadata": {
        "id": "mWUE5BlDdzSw"
      },
      "execution_count": null,
      "outputs": []
    },
    {
      "cell_type": "code",
      "source": [
        "#二つのHidden Layer を追加、それぞれ10個のニューロンを持つ\n",
        "mlp_clsf = MLPClassifier((10,10),activation ='relu',learning_rate='constant',learning_rate_init=0.001)\n",
        "mlp_clsf.fit(train_X,train_Y)\n",
        "predictions = mlp_clsf.predict(test_X)\n",
        "print(\"Accuracy: \"+str(accuracy_score(test_Y,predictions)))"
      ],
      "metadata": {
        "colab": {
          "base_uri": "https://localhost:8080/"
        },
        "id": "_IZZUsgOd3Xd",
        "outputId": "53b361ce-dc86-4e45-84ea-bd4072bd5051"
      },
      "execution_count": 11,
      "outputs": [
        {
          "output_type": "stream",
          "name": "stdout",
          "text": [
            "Accuracy: 1.0\n"
          ]
        },
        {
          "output_type": "stream",
          "name": "stderr",
          "text": [
            "/usr/local/lib/python3.7/dist-packages/sklearn/neural_network/_multilayer_perceptron.py:696: ConvergenceWarning: Stochastic Optimizer: Maximum iterations (200) reached and the optimization hasn't converged yet.\n",
            "  ConvergenceWarning,\n"
          ]
        }
      ]
    },
    {
      "cell_type": "code",
      "source": [
        "#確率の合計が１かを確認\n",
        "mlp_clsf.predict_proba(test_X[0].reshape(1,-1)).sum()"
      ],
      "metadata": {
        "colab": {
          "base_uri": "https://localhost:8080/"
        },
        "id": "LgmhyswUd5ZP",
        "outputId": "57ac5d40-82ef-4637-8643-f3436bbef38d"
      },
      "execution_count": 12,
      "outputs": [
        {
          "output_type": "execute_result",
          "data": {
            "text/plain": [
              "1.000"
            ]
          },
          "metadata": {},
          "execution_count": 12
        }
      ]
    },
    {
      "cell_type": "code",
      "source": [
        "mlp_clsf.out_activation_\n"
      ],
      "metadata": {
        "colab": {
          "base_uri": "https://localhost:8080/",
          "height": 36
        },
        "id": "YQb_dcQ-eW5l",
        "outputId": "f8ea1ded-d8dd-478e-99a8-b4ac0b36f5d8"
      },
      "execution_count": 13,
      "outputs": [
        {
          "output_type": "execute_result",
          "data": {
            "text/plain": [
              "'logistic'"
            ],
            "application/vnd.google.colaboratory.intrinsic+json": {
              "type": "string"
            }
          },
          "metadata": {},
          "execution_count": 13
        }
      ]
    },
    {
      "cell_type": "code",
      "source": [
        "from sklearn.datasets import load_boston\n",
        "from sklearn.neural_network import MLPRegressor\n",
        "from sklearn.model_selection import train_test_split\n",
        "from sklearn.metrics import mean_squared_error"
      ],
      "metadata": {
        "id": "8aDTuTigebc3"
      },
      "execution_count": 14,
      "outputs": []
    },
    {
      "cell_type": "code",
      "source": [
        "#データセットをロード\n",
        "dataset  = load_boston()\n",
        "X = dataset['data']\n",
        "Y = dataset['target']\n",
        "#テストとトレーニングのデータセットに分ける\n",
        "#モデルの評価をしっかりやりたい時は、validationのデータセットを作るのが良い。\n",
        "train_X, test_X, train_Y, test_Y = train_test_split(X,Y, test_size = 0.3, random_state = 42, shuffle =True)\n",
        "#２個のhidden layerを追加　activation function は relu.\n",
        "mlp_reg = MLPRegressor((10,10),activation ='relu',learning_rate='constant',learning_rate_init=0.001,max_iter=3000,random_state=42)\n",
        "mlp_reg.fit(train_X,train_Y)\n",
        "predictions = mlp_reg.predict(test_X)\n",
        "#RSMEを計算\n",
        "error = mean_squared_error(test_Y,predictions) ** (1/2)\n",
        "print(\"RSME: \" +str(error))"
      ],
      "metadata": {
        "colab": {
          "base_uri": "https://localhost:8080/"
        },
        "id": "cwZgvNiAeef2",
        "outputId": "0f8f512e-0ceb-4e28-bbcc-a9f27151b5f5"
      },
      "execution_count": 15,
      "outputs": [
        {
          "output_type": "stream",
          "name": "stderr",
          "text": [
            "/usr/local/lib/python3.7/dist-packages/sklearn/utils/deprecation.py:87: FutureWarning: Function load_boston is deprecated; `load_boston` is deprecated in 1.0 and will be removed in 1.2.\n",
            "\n",
            "    The Boston housing prices dataset has an ethical problem. You can refer to\n",
            "    the documentation of this function for further details.\n",
            "\n",
            "    The scikit-learn maintainers therefore strongly discourage the use of this\n",
            "    dataset unless the purpose of the code is to study and educate about\n",
            "    ethical issues in data science and machine learning.\n",
            "\n",
            "    In this special case, you can fetch the dataset from the original\n",
            "    source::\n",
            "\n",
            "        import pandas as pd\n",
            "        import numpy as np\n",
            "\n",
            "\n",
            "        data_url = \"http://lib.stat.cmu.edu/datasets/boston\"\n",
            "        raw_df = pd.read_csv(data_url, sep=\"\\s+\", skiprows=22, header=None)\n",
            "        data = np.hstack([raw_df.values[::2, :], raw_df.values[1::2, :2]])\n",
            "        target = raw_df.values[1::2, 2]\n",
            "\n",
            "    Alternative datasets include the California housing dataset (i.e.\n",
            "    :func:`~sklearn.datasets.fetch_california_housing`) and the Ames housing\n",
            "    dataset. You can load the datasets as follows::\n",
            "\n",
            "        from sklearn.datasets import fetch_california_housing\n",
            "        housing = fetch_california_housing()\n",
            "\n",
            "    for the California housing dataset and::\n",
            "\n",
            "        from sklearn.datasets import fetch_openml\n",
            "        housing = fetch_openml(name=\"house_prices\", as_frame=True)\n",
            "\n",
            "    for the Ames housing dataset.\n",
            "    \n",
            "  warnings.warn(msg, category=FutureWarning)\n"
          ]
        },
        {
          "output_type": "stream",
          "name": "stdout",
          "text": [
            "RSME: 4.699377521565086\n"
          ]
        }
      ]
    },
    {
      "cell_type": "code",
      "source": [
        "mlp_reg.out_activation_"
      ],
      "metadata": {
        "colab": {
          "base_uri": "https://localhost:8080/",
          "height": 36
        },
        "id": "o1Lh1yUjens-",
        "outputId": "c0f49f80-934c-4376-9d40-9167732c5c35"
      },
      "execution_count": 16,
      "outputs": [
        {
          "output_type": "execute_result",
          "data": {
            "text/plain": [
              "'identity'"
            ],
            "application/vnd.google.colaboratory.intrinsic+json": {
              "type": "string"
            }
          },
          "metadata": {},
          "execution_count": 16
        }
      ]
    },
    {
      "cell_type": "code",
      "source": [
        "import tensorflow as tf \n",
        "from tensorflow import keras\n",
        "from sklearn.preprocessing import StandardScaler\n"
      ],
      "metadata": {
        "id": "Aq9dEO4vfQ_T"
      },
      "execution_count": 17,
      "outputs": []
    },
    {
      "cell_type": "code",
      "source": [
        "#データセットをダウンロード\n",
        "house_price = keras.datasets.boston_housing \n",
        "#データをtraining, validation, test に分ける\n",
        "(train_X, train_Y), (test_X, test_Y) = house_price.load_data()\n",
        "train_X, valid_X, train_Y, valid_Y = train_test_split(train_X, train_Y)"
      ],
      "metadata": {
        "colab": {
          "base_uri": "https://localhost:8080/"
        },
        "id": "XWfhO-nqfUGT",
        "outputId": "d12d30d6-e2c1-49d2-b679-440b11b281ab"
      },
      "execution_count": 18,
      "outputs": [
        {
          "output_type": "stream",
          "name": "stdout",
          "text": [
            "Downloading data from https://storage.googleapis.com/tensorflow/tf-keras-datasets/boston_housing.npz\n",
            "57344/57026 [==============================] - 0s 0us/step\n",
            "65536/57026 [==================================] - 0s 0us/step\n"
          ]
        }
      ]
    },
    {
      "cell_type": "code",
      "source": [
        "#変数をスケーリング　最適化を早くするため\n",
        "scaler  = StandardScaler() \n",
        "train_X = scaler.fit_transform(train_X)\n",
        "valid_X = scaler.fit_transform(valid_X)\n",
        "test_X = scaler.fit_transform(test_X)"
      ],
      "metadata": {
        "id": "vFUhYHB5fXdC"
      },
      "execution_count": 19,
      "outputs": []
    },
    {
      "cell_type": "code",
      "source": [
        "#KerasのSequential model を使う\n",
        "keras_model = keras.models.Sequential() \n",
        "#インプットレイヤーを追加\n",
        "keras_model.add(tf.keras.Input(shape=train_X.shape[1:],)) \n",
        "#Hidden layer を追加\n",
        "keras_model.add(tf.keras.layers.Dense(30,activation=\"relu\"))\n",
        "#Output layer を追加\n",
        "keras_model.add(tf.keras.layers.Dense(1))\n",
        "\n",
        "keras_model.summary()"
      ],
      "metadata": {
        "colab": {
          "base_uri": "https://localhost:8080/"
        },
        "id": "_xqu8zJEfZqE",
        "outputId": "67d87a9e-3ae9-4a07-a22c-d94ca5c69a8b"
      },
      "execution_count": 20,
      "outputs": [
        {
          "output_type": "stream",
          "name": "stdout",
          "text": [
            "Model: \"sequential\"\n",
            "_________________________________________________________________\n",
            " Layer (type)                Output Shape              Param #   \n",
            "=================================================================\n",
            " dense (Dense)               (None, 30)                420       \n",
            "                                                                 \n",
            " dense_1 (Dense)             (None, 1)                 31        \n",
            "                                                                 \n",
            "=================================================================\n",
            "Total params: 451\n",
            "Trainable params: 451\n",
            "Non-trainable params: 0\n",
            "_________________________________________________________________\n"
          ]
        }
      ]
    },
    {
      "cell_type": "code",
      "source": [
        "#モデルをコンパイル\n",
        "keras_model.compile(loss=\"mean_squared_error\", optimizer=\"sgd\",metrics=[tf.keras.metrics.RootMeanSquaredError(\n",
        "name=\"root_mean_squared_error\", dtype=None)])\n",
        "#モデルをトレーニング\n",
        "#validationのデータセットがあれば、それを渡すことで、validationに関してのlossやRMSEの計算なども簡単にできる。\n",
        "history = keras_model.fit(train_X, train_Y, epochs=70, validation_data=(valid_X, valid_Y))"
      ],
      "metadata": {
        "colab": {
          "base_uri": "https://localhost:8080/"
        },
        "id": "o-AOFaQysNxQ",
        "outputId": "5bfcc477-2b68-4255-9423-98488e553957"
      },
      "execution_count": 21,
      "outputs": [
        {
          "output_type": "stream",
          "name": "stdout",
          "text": [
            "Epoch 1/70\n",
            "10/10 [==============================] - 1s 22ms/step - loss: 200.4318 - root_mean_squared_error: 14.1574 - val_loss: 46.0216 - val_root_mean_squared_error: 6.7839\n",
            "Epoch 2/70\n",
            "10/10 [==============================] - 0s 6ms/step - loss: 19.8286 - root_mean_squared_error: 4.4529 - val_loss: 36.4145 - val_root_mean_squared_error: 6.0344\n",
            "Epoch 3/70\n",
            "10/10 [==============================] - 0s 7ms/step - loss: 15.1262 - root_mean_squared_error: 3.8892 - val_loss: 34.4836 - val_root_mean_squared_error: 5.8723\n",
            "Epoch 4/70\n",
            "10/10 [==============================] - 0s 5ms/step - loss: 11.6251 - root_mean_squared_error: 3.4096 - val_loss: 27.2653 - val_root_mean_squared_error: 5.2216\n",
            "Epoch 5/70\n",
            "10/10 [==============================] - 0s 5ms/step - loss: 9.7741 - root_mean_squared_error: 3.1264 - val_loss: 27.0523 - val_root_mean_squared_error: 5.2012\n",
            "Epoch 6/70\n",
            "10/10 [==============================] - 0s 6ms/step - loss: 10.9674 - root_mean_squared_error: 3.3117 - val_loss: 27.1149 - val_root_mean_squared_error: 5.2072\n",
            "Epoch 7/70\n",
            "10/10 [==============================] - 0s 5ms/step - loss: 10.8125 - root_mean_squared_error: 3.2882 - val_loss: 23.9698 - val_root_mean_squared_error: 4.8959\n",
            "Epoch 8/70\n",
            "10/10 [==============================] - 0s 7ms/step - loss: 9.2305 - root_mean_squared_error: 3.0382 - val_loss: 23.8328 - val_root_mean_squared_error: 4.8819\n",
            "Epoch 9/70\n",
            "10/10 [==============================] - 0s 5ms/step - loss: 9.0680 - root_mean_squared_error: 3.0113 - val_loss: 23.5882 - val_root_mean_squared_error: 4.8568\n",
            "Epoch 10/70\n",
            "10/10 [==============================] - 0s 6ms/step - loss: 8.8561 - root_mean_squared_error: 2.9759 - val_loss: 26.1712 - val_root_mean_squared_error: 5.1158\n",
            "Epoch 11/70\n",
            "10/10 [==============================] - 0s 7ms/step - loss: 8.0136 - root_mean_squared_error: 2.8308 - val_loss: 28.4113 - val_root_mean_squared_error: 5.3302\n",
            "Epoch 12/70\n",
            "10/10 [==============================] - 0s 6ms/step - loss: 8.1512 - root_mean_squared_error: 2.8550 - val_loss: 23.0510 - val_root_mean_squared_error: 4.8012\n",
            "Epoch 13/70\n",
            "10/10 [==============================] - 0s 6ms/step - loss: 8.0511 - root_mean_squared_error: 2.8375 - val_loss: 22.0891 - val_root_mean_squared_error: 4.6999\n",
            "Epoch 14/70\n",
            "10/10 [==============================] - 0s 6ms/step - loss: 8.2448 - root_mean_squared_error: 2.8714 - val_loss: 27.1792 - val_root_mean_squared_error: 5.2134\n",
            "Epoch 15/70\n",
            "10/10 [==============================] - 0s 7ms/step - loss: 8.0276 - root_mean_squared_error: 2.8333 - val_loss: 23.6816 - val_root_mean_squared_error: 4.8664\n",
            "Epoch 16/70\n",
            "10/10 [==============================] - 0s 5ms/step - loss: 8.0727 - root_mean_squared_error: 2.8413 - val_loss: 23.5133 - val_root_mean_squared_error: 4.8491\n",
            "Epoch 17/70\n",
            "10/10 [==============================] - 0s 6ms/step - loss: 7.7577 - root_mean_squared_error: 2.7853 - val_loss: 25.9785 - val_root_mean_squared_error: 5.0969\n",
            "Epoch 18/70\n",
            "10/10 [==============================] - 0s 5ms/step - loss: 9.0982 - root_mean_squared_error: 3.0163 - val_loss: 24.2269 - val_root_mean_squared_error: 4.9221\n",
            "Epoch 19/70\n",
            "10/10 [==============================] - 0s 6ms/step - loss: 7.8192 - root_mean_squared_error: 2.7963 - val_loss: 25.7163 - val_root_mean_squared_error: 5.0711\n",
            "Epoch 20/70\n",
            "10/10 [==============================] - 0s 7ms/step - loss: 7.4998 - root_mean_squared_error: 2.7386 - val_loss: 24.6311 - val_root_mean_squared_error: 4.9630\n",
            "Epoch 21/70\n",
            "10/10 [==============================] - 0s 5ms/step - loss: 7.4785 - root_mean_squared_error: 2.7347 - val_loss: 26.3179 - val_root_mean_squared_error: 5.1301\n",
            "Epoch 22/70\n",
            "10/10 [==============================] - 0s 5ms/step - loss: 9.2060 - root_mean_squared_error: 3.0341 - val_loss: 27.9572 - val_root_mean_squared_error: 5.2875\n",
            "Epoch 23/70\n",
            "10/10 [==============================] - 0s 7ms/step - loss: 7.7591 - root_mean_squared_error: 2.7855 - val_loss: 26.1289 - val_root_mean_squared_error: 5.1116\n",
            "Epoch 24/70\n",
            "10/10 [==============================] - 0s 6ms/step - loss: 8.1460 - root_mean_squared_error: 2.8541 - val_loss: 20.1603 - val_root_mean_squared_error: 4.4900\n",
            "Epoch 25/70\n",
            "10/10 [==============================] - 0s 7ms/step - loss: 7.2442 - root_mean_squared_error: 2.6915 - val_loss: 21.4805 - val_root_mean_squared_error: 4.6347\n",
            "Epoch 26/70\n",
            "10/10 [==============================] - 0s 5ms/step - loss: 7.5194 - root_mean_squared_error: 2.7422 - val_loss: 23.6420 - val_root_mean_squared_error: 4.8623\n",
            "Epoch 27/70\n",
            "10/10 [==============================] - 0s 5ms/step - loss: 7.4876 - root_mean_squared_error: 2.7364 - val_loss: 21.8062 - val_root_mean_squared_error: 4.6697\n",
            "Epoch 28/70\n",
            "10/10 [==============================] - 0s 7ms/step - loss: 10.1679 - root_mean_squared_error: 3.1887 - val_loss: 20.9916 - val_root_mean_squared_error: 4.5817\n",
            "Epoch 29/70\n",
            "10/10 [==============================] - 0s 7ms/step - loss: 8.6643 - root_mean_squared_error: 2.9435 - val_loss: 22.8655 - val_root_mean_squared_error: 4.7818\n",
            "Epoch 30/70\n",
            "10/10 [==============================] - 0s 5ms/step - loss: 6.7365 - root_mean_squared_error: 2.5955 - val_loss: 20.1699 - val_root_mean_squared_error: 4.4911\n",
            "Epoch 31/70\n",
            "10/10 [==============================] - 0s 6ms/step - loss: 7.3050 - root_mean_squared_error: 2.7028 - val_loss: 21.5778 - val_root_mean_squared_error: 4.6452\n",
            "Epoch 32/70\n",
            "10/10 [==============================] - 0s 6ms/step - loss: 6.6234 - root_mean_squared_error: 2.5736 - val_loss: 24.2143 - val_root_mean_squared_error: 4.9208\n",
            "Epoch 33/70\n",
            "10/10 [==============================] - 0s 5ms/step - loss: 6.9664 - root_mean_squared_error: 2.6394 - val_loss: 21.1654 - val_root_mean_squared_error: 4.6006\n",
            "Epoch 34/70\n",
            "10/10 [==============================] - 0s 5ms/step - loss: 6.5759 - root_mean_squared_error: 2.5644 - val_loss: 28.4858 - val_root_mean_squared_error: 5.3372\n",
            "Epoch 35/70\n",
            "10/10 [==============================] - 0s 5ms/step - loss: 7.5319 - root_mean_squared_error: 2.7444 - val_loss: 21.1677 - val_root_mean_squared_error: 4.6008\n",
            "Epoch 36/70\n",
            "10/10 [==============================] - 0s 5ms/step - loss: 6.8080 - root_mean_squared_error: 2.6092 - val_loss: 21.8083 - val_root_mean_squared_error: 4.6699\n",
            "Epoch 37/70\n",
            "10/10 [==============================] - 0s 7ms/step - loss: 6.3933 - root_mean_squared_error: 2.5285 - val_loss: 25.9635 - val_root_mean_squared_error: 5.0954\n",
            "Epoch 38/70\n",
            "10/10 [==============================] - 0s 5ms/step - loss: 8.2239 - root_mean_squared_error: 2.8677 - val_loss: 20.0888 - val_root_mean_squared_error: 4.4820\n",
            "Epoch 39/70\n",
            "10/10 [==============================] - 0s 7ms/step - loss: 6.9427 - root_mean_squared_error: 2.6349 - val_loss: 21.9948 - val_root_mean_squared_error: 4.6899\n",
            "Epoch 40/70\n",
            "10/10 [==============================] - 0s 7ms/step - loss: 7.1079 - root_mean_squared_error: 2.6661 - val_loss: 19.6685 - val_root_mean_squared_error: 4.4349\n",
            "Epoch 41/70\n",
            "10/10 [==============================] - 0s 7ms/step - loss: 6.5890 - root_mean_squared_error: 2.5669 - val_loss: 24.1272 - val_root_mean_squared_error: 4.9119\n",
            "Epoch 42/70\n",
            "10/10 [==============================] - 0s 7ms/step - loss: 6.4891 - root_mean_squared_error: 2.5474 - val_loss: 20.0513 - val_root_mean_squared_error: 4.4779\n",
            "Epoch 43/70\n",
            "10/10 [==============================] - 0s 11ms/step - loss: 6.7317 - root_mean_squared_error: 2.5945 - val_loss: 21.5999 - val_root_mean_squared_error: 4.6476\n",
            "Epoch 44/70\n",
            "10/10 [==============================] - 0s 10ms/step - loss: 6.4689 - root_mean_squared_error: 2.5434 - val_loss: 20.5427 - val_root_mean_squared_error: 4.5324\n",
            "Epoch 45/70\n",
            "10/10 [==============================] - 0s 8ms/step - loss: 6.7059 - root_mean_squared_error: 2.5896 - val_loss: 22.5478 - val_root_mean_squared_error: 4.7485\n",
            "Epoch 46/70\n",
            "10/10 [==============================] - 0s 9ms/step - loss: 7.1945 - root_mean_squared_error: 2.6822 - val_loss: 22.9164 - val_root_mean_squared_error: 4.7871\n",
            "Epoch 47/70\n",
            "10/10 [==============================] - 0s 9ms/step - loss: 7.5467 - root_mean_squared_error: 2.7471 - val_loss: 23.4908 - val_root_mean_squared_error: 4.8467\n",
            "Epoch 48/70\n",
            "10/10 [==============================] - 0s 9ms/step - loss: 6.3334 - root_mean_squared_error: 2.5166 - val_loss: 21.7149 - val_root_mean_squared_error: 4.6599\n",
            "Epoch 49/70\n",
            "10/10 [==============================] - 0s 14ms/step - loss: 6.0472 - root_mean_squared_error: 2.4591 - val_loss: 20.6886 - val_root_mean_squared_error: 4.5485\n",
            "Epoch 50/70\n",
            "10/10 [==============================] - 0s 10ms/step - loss: 6.0828 - root_mean_squared_error: 2.4663 - val_loss: 19.8293 - val_root_mean_squared_error: 4.4530\n",
            "Epoch 51/70\n",
            "10/10 [==============================] - 0s 10ms/step - loss: 6.0974 - root_mean_squared_error: 2.4693 - val_loss: 21.2667 - val_root_mean_squared_error: 4.6116\n",
            "Epoch 52/70\n",
            "10/10 [==============================] - 0s 10ms/step - loss: 7.3606 - root_mean_squared_error: 2.7130 - val_loss: 23.4504 - val_root_mean_squared_error: 4.8426\n",
            "Epoch 53/70\n",
            "10/10 [==============================] - 0s 5ms/step - loss: 6.4216 - root_mean_squared_error: 2.5341 - val_loss: 26.3154 - val_root_mean_squared_error: 5.1299\n",
            "Epoch 54/70\n",
            "10/10 [==============================] - 0s 5ms/step - loss: 7.3088 - root_mean_squared_error: 2.7035 - val_loss: 23.1768 - val_root_mean_squared_error: 4.8142\n",
            "Epoch 55/70\n",
            "10/10 [==============================] - 0s 7ms/step - loss: 6.4468 - root_mean_squared_error: 2.5390 - val_loss: 20.7166 - val_root_mean_squared_error: 4.5516\n",
            "Epoch 56/70\n",
            "10/10 [==============================] - 0s 6ms/step - loss: 5.7449 - root_mean_squared_error: 2.3968 - val_loss: 19.9535 - val_root_mean_squared_error: 4.4669\n",
            "Epoch 57/70\n",
            "10/10 [==============================] - 0s 6ms/step - loss: 6.0826 - root_mean_squared_error: 2.4663 - val_loss: 23.1930 - val_root_mean_squared_error: 4.8159\n",
            "Epoch 58/70\n",
            "10/10 [==============================] - 0s 7ms/step - loss: 5.8153 - root_mean_squared_error: 2.4115 - val_loss: 24.0237 - val_root_mean_squared_error: 4.9014\n",
            "Epoch 59/70\n",
            "10/10 [==============================] - 0s 6ms/step - loss: 6.2590 - root_mean_squared_error: 2.5018 - val_loss: 21.0051 - val_root_mean_squared_error: 4.5831\n",
            "Epoch 60/70\n",
            "10/10 [==============================] - 0s 5ms/step - loss: 5.5843 - root_mean_squared_error: 2.3631 - val_loss: 19.9164 - val_root_mean_squared_error: 4.4628\n",
            "Epoch 61/70\n",
            "10/10 [==============================] - 0s 5ms/step - loss: 7.7612 - root_mean_squared_error: 2.7859 - val_loss: 21.5046 - val_root_mean_squared_error: 4.6373\n",
            "Epoch 62/70\n",
            "10/10 [==============================] - 0s 7ms/step - loss: 5.7412 - root_mean_squared_error: 2.3961 - val_loss: 20.8174 - val_root_mean_squared_error: 4.5626\n",
            "Epoch 63/70\n",
            "10/10 [==============================] - 0s 5ms/step - loss: 5.9903 - root_mean_squared_error: 2.4475 - val_loss: 20.7428 - val_root_mean_squared_error: 4.5544\n",
            "Epoch 64/70\n",
            "10/10 [==============================] - 0s 7ms/step - loss: 7.6475 - root_mean_squared_error: 2.7654 - val_loss: 22.1537 - val_root_mean_squared_error: 4.7068\n",
            "Epoch 65/70\n",
            "10/10 [==============================] - 0s 5ms/step - loss: 6.1025 - root_mean_squared_error: 2.4703 - val_loss: 22.7794 - val_root_mean_squared_error: 4.7728\n",
            "Epoch 66/70\n",
            "10/10 [==============================] - 0s 5ms/step - loss: 6.2150 - root_mean_squared_error: 2.4930 - val_loss: 21.7881 - val_root_mean_squared_error: 4.6678\n",
            "Epoch 67/70\n",
            "10/10 [==============================] - 0s 5ms/step - loss: 6.1770 - root_mean_squared_error: 2.4854 - val_loss: 21.1589 - val_root_mean_squared_error: 4.5999\n",
            "Epoch 68/70\n",
            "10/10 [==============================] - 0s 6ms/step - loss: 5.9224 - root_mean_squared_error: 2.4336 - val_loss: 21.6002 - val_root_mean_squared_error: 4.6476\n",
            "Epoch 69/70\n",
            "10/10 [==============================] - 0s 5ms/step - loss: 5.8757 - root_mean_squared_error: 2.4240 - val_loss: 27.5502 - val_root_mean_squared_error: 5.2488\n",
            "Epoch 70/70\n",
            "10/10 [==============================] - 0s 5ms/step - loss: 6.2394 - root_mean_squared_error: 2.4979 - val_loss: 21.2979 - val_root_mean_squared_error: 4.6150\n"
          ]
        }
      ]
    },
    {
      "cell_type": "code",
      "source": [
        "mlp_reg = MLPRegressor((10,10),activation ='relu',learning_rate='constant',learning_rate_init=0.001,max_iter=3000,random_state=42)"
      ],
      "metadata": {
        "id": "CvCs6Gdifdfw"
      },
      "execution_count": 22,
      "outputs": []
    },
    {
      "cell_type": "code",
      "source": [
        "import pandas as pd\n",
        "import matplotlib.pyplot as plt\n",
        "pd.DataFrame(history.history).plot(figsize=(10,8))\n",
        "plt.grid(True)\n",
        "plt.gca().set_ylim(0,60)\n",
        "plt.xlabel(\"# of Epocs\")\n",
        "plt.show()"
      ],
      "metadata": {
        "colab": {
          "base_uri": "https://localhost:8080/",
          "height": 506
        },
        "id": "ZD3kERdPfh1E",
        "outputId": "b13b3b13-b3c7-481d-f11b-7b19b6453bfd"
      },
      "execution_count": 23,
      "outputs": [
        {
          "output_type": "display_data",
          "data": {
            "text/plain": [
              "<Figure size 720x576 with 1 Axes>"
            ],
            "image/png": "[encoded data removed]"
          },
          "metadata": {
            "needs_background": "light"
          }
        }
      ]
    },
    {
      "cell_type": "code",
      "source": [
        "mean_squared_error(test_Y,keras_model.predict(test_X)) ** (1/2)"
      ],
      "metadata": {
        "colab": {
          "base_uri": "https://localhost:8080/"
        },
        "id": "QN-zG1dXhq1F",
        "outputId": "ed68ce68-5680-4ec1-e131-914fb2a5eb9b"
      },
      "execution_count": 24,
      "outputs": [
        {
          "output_type": "execute_result",
          "data": {
            "text/plain": [
              "4.678"
            ]
          },
          "metadata": {},
          "execution_count": 24
        }
      ]
    },
    {
      "cell_type": "code",
      "source": [
        "#データをダウンロードして、トレーニングとテストに分ける\n",
        "import requests, zipfile\n",
        "import io\n",
        "url = 'https://storage.googleapis.com/tensorflow/tf-keras-datasets/mnist.npz'\n",
        "#res = requests.get(url).content\n",
        "#データをダウンロードして、トレーニングとテストに分ける\n",
        "(train_X, train_Y), (test_X, test_Y) = tf.keras.datasets.mnist.load_data(path=\"mnist.npz\")"
      ],
      "metadata": {
        "colab": {
          "base_uri": "https://localhost:8080/"
        },
        "id": "94f1keKMht1o",
        "outputId": "223d412b-bbc1-41b6-c003-098fd5bb3caf"
      },
      "execution_count": 25,
      "outputs": [
        {
          "output_type": "stream",
          "name": "stdout",
          "text": [
            "Downloading data from https://storage.googleapis.com/tensorflow/tf-keras-datasets/mnist.npz\n",
            "11493376/11490434 [==============================] - 0s 0us/step\n",
            "11501568/11490434 [==============================] - 0s 0us/step\n"
          ]
        }
      ]
    },
    {
      "cell_type": "code",
      "source": [
        "#イメージを実際に視覚化してみる\n",
        "from matplotlib import pyplot as plt\n",
        "plt.imshow(train_X[0],cmap='Greys')\n",
        "plt.show()"
      ],
      "metadata": {
        "colab": {
          "base_uri": "https://localhost:8080/",
          "height": 268
        },
        "id": "tcE7AF1ChyM4",
        "outputId": "8a050da4-3674-4a69-c9f7-8a4b568e7e46"
      },
      "execution_count": 26,
      "outputs": [
        {
          "output_type": "display_data",
          "data": {
            "text/plain": [
              "<Figure size 432x288 with 1 Axes>"
            ],
            "image/png": "[encoded data removed]"
          },
          "metadata": {
            "needs_background": "light"
          }
        }
      ]
    },
    {
      "cell_type": "code",
      "source": [
        "import tensorflow as tf\n",
        "from tensorflow import keras\n",
        "from sklearn.preprocessing import StandardScaler"
      ],
      "metadata": {
        "id": "Cr5vpPyMiswl"
      },
      "execution_count": 27,
      "outputs": []
    },
    {
      "cell_type": "code",
      "source": [
        "#training と validationに分ける\n",
        "train_X, valid_X, train_Y, valid_Y = train_test_split(train_X, train_Y)\n",
        "#最適化のアルゴリズムを早くするために、変数をスケーリングします。\n",
        "train_X = train_X / 255.0\n",
        "valid_X = valid_X / 255.0\n",
        "test_X = test_X / 255.0"
      ],
      "metadata": {
        "id": "f8QDGN2zivX4"
      },
      "execution_count": 28,
      "outputs": []
    },
    {
      "cell_type": "code",
      "source": [
        "keras_clf = keras.models.Sequential()\n",
        "#input layerを作る。もともとのinputのデータが2-Dなので、1Dにします。\n",
        "keras_clf.add(keras.layers.Flatten(input_shape=[28,28]))\n",
        "#output layer を作る.10個のクラスがあるので、10個のニューロンが必要。\n",
        "keras_clf.add(keras.layers.Dense(10,activation = 'softmax'))\n",
        "keras_clf.summary()\n",
        "keras_clf.compile(loss=\"sparse_categorical_crossentropy\", optimizer=\"sgd\",metrics=[\"accuracy\"])\n",
        "history = keras_clf.fit(train_X, train_Y, epochs=20, validation_data=(valid_X, valid_Y))"
      ],
      "metadata": {
        "colab": {
          "base_uri": "https://localhost:8080/"
        },
        "id": "3HGRoB5KizBl",
        "outputId": "2a8a7e10-35a2-4090-e767-0b71fdf89415"
      },
      "execution_count": 29,
      "outputs": [
        {
          "output_type": "stream",
          "name": "stdout",
          "text": [
            "Model: \"sequential_1\"\n",
            "_________________________________________________________________\n",
            " Layer (type)                Output Shape              Param #   \n",
            "=================================================================\n",
            " flatten (Flatten)           (None, 784)               0         \n",
            "                                                                 \n",
            " dense_2 (Dense)             (None, 10)                7850      \n",
            "                                                                 \n",
            "=================================================================\n",
            "Total params: 7,850\n",
            "Trainable params: 7,850\n",
            "Non-trainable params: 0\n",
            "_________________________________________________________________\n",
            "Epoch 1/20\n",
            "1407/1407 [==============================] - 4s 2ms/step - loss: 0.8627 - accuracy: 0.7976 - val_loss: 0.5458 - val_accuracy: 0.8659\n",
            "Epoch 2/20\n",
            "1407/1407 [==============================] - 3s 2ms/step - loss: 0.4953 - accuracy: 0.8731 - val_loss: 0.4457 - val_accuracy: 0.8841\n",
            "Epoch 3/20\n",
            "1407/1407 [==============================] - 3s 2ms/step - loss: 0.4326 - accuracy: 0.8850 - val_loss: 0.4046 - val_accuracy: 0.8915\n",
            "Epoch 4/20\n",
            "1407/1407 [==============================] - 3s 2ms/step - loss: 0.4018 - accuracy: 0.8914 - val_loss: 0.3809 - val_accuracy: 0.8964\n",
            "Epoch 5/20\n",
            "1407/1407 [==============================] - 3s 2ms/step - loss: 0.3823 - accuracy: 0.8960 - val_loss: 0.3641 - val_accuracy: 0.8995\n",
            "Epoch 6/20\n",
            "1407/1407 [==============================] - 3s 2ms/step - loss: 0.3686 - accuracy: 0.8984 - val_loss: 0.3519 - val_accuracy: 0.9023\n",
            "Epoch 7/20\n",
            "1407/1407 [==============================] - 3s 2ms/step - loss: 0.3580 - accuracy: 0.9001 - val_loss: 0.3436 - val_accuracy: 0.9047\n",
            "Epoch 8/20\n",
            "1407/1407 [==============================] - 3s 2ms/step - loss: 0.3500 - accuracy: 0.9025 - val_loss: 0.3358 - val_accuracy: 0.9073\n",
            "Epoch 9/20\n",
            "1407/1407 [==============================] - 3s 2ms/step - loss: 0.3432 - accuracy: 0.9050 - val_loss: 0.3306 - val_accuracy: 0.9084\n",
            "Epoch 10/20\n",
            "1407/1407 [==============================] - 3s 2ms/step - loss: 0.3375 - accuracy: 0.9061 - val_loss: 0.3249 - val_accuracy: 0.9100\n",
            "Epoch 11/20\n",
            "1407/1407 [==============================] - 3s 2ms/step - loss: 0.3326 - accuracy: 0.9076 - val_loss: 0.3209 - val_accuracy: 0.9118\n",
            "Epoch 12/20\n",
            "1407/1407 [==============================] - 3s 2ms/step - loss: 0.3284 - accuracy: 0.9081 - val_loss: 0.3167 - val_accuracy: 0.9129\n",
            "Epoch 13/20\n",
            "1407/1407 [==============================] - 3s 2ms/step - loss: 0.3248 - accuracy: 0.9099 - val_loss: 0.3137 - val_accuracy: 0.9130\n",
            "Epoch 14/20\n",
            "1407/1407 [==============================] - 3s 2ms/step - loss: 0.3214 - accuracy: 0.9107 - val_loss: 0.3103 - val_accuracy: 0.9149\n",
            "Epoch 15/20\n",
            "1407/1407 [==============================] - 3s 2ms/step - loss: 0.3184 - accuracy: 0.9114 - val_loss: 0.3082 - val_accuracy: 0.9149\n",
            "Epoch 16/20\n",
            "1407/1407 [==============================] - 3s 2ms/step - loss: 0.3156 - accuracy: 0.9119 - val_loss: 0.3068 - val_accuracy: 0.9153\n",
            "Epoch 17/20\n",
            "1407/1407 [==============================] - 3s 2ms/step - loss: 0.3132 - accuracy: 0.9122 - val_loss: 0.3038 - val_accuracy: 0.9169\n",
            "Epoch 18/20\n",
            "1407/1407 [==============================] - 3s 2ms/step - loss: 0.3110 - accuracy: 0.9134 - val_loss: 0.3018 - val_accuracy: 0.9159\n",
            "Epoch 19/20\n",
            "1407/1407 [==============================] - 3s 2ms/step - loss: 0.3088 - accuracy: 0.9141 - val_loss: 0.3003 - val_accuracy: 0.9170\n",
            "Epoch 20/20\n",
            "1407/1407 [==============================] - 3s 2ms/step - loss: 0.3070 - accuracy: 0.9146 - val_loss: 0.2984 - val_accuracy: 0.9173\n"
          ]
        }
      ]
    },
    {
      "cell_type": "code",
      "source": [
        "pd.DataFrame(history.history).plot(figsize=(8,5))\n",
        "plt.grid(True)\n",
        "plt.gca()\n",
        "plt.xlabel(\"# of Epocs\")\n",
        "plt.show()"
      ],
      "metadata": {
        "colab": {
          "base_uri": "https://localhost:8080/",
          "height": 339
        },
        "id": "lwgUPPRUi1lc",
        "outputId": "fa02f805-9c57-463c-f4c3-29f04d8a9fd4"
      },
      "execution_count": null,
      "outputs": [
        {
          "output_type": "display_data",
          "data": {
            "text/plain": [
              "<Figure size 576x360 with 1 Axes>"
            ],
            "image/png": "[encoded data removed]"
          },
          "metadata": {
            "needs_background": "light"
          }
        }
      ]
    },
    {
      "cell_type": "code",
      "source": [
        "#accuracyを計算\n",
        "from sklearn.metrics import accuracy_score\n",
        "print(\"Accuracy: \" +str(accuracy_score(test_Y,keras_clf.predict(test_X).argmax(axis=-1))))"
      ],
      "metadata": {
        "colab": {
          "base_uri": "https://localhost:8080/"
        },
        "id": "Av6OzvADjHMg",
        "outputId": "c3c245b0-1f71-4e67-c425-c7c1e759bf85"
      },
      "execution_count": 30,
      "outputs": [
        {
          "output_type": "stream",
          "name": "stdout",
          "text": [
            "Accuracy: 0.9163\n"
          ]
        }
      ]
    },
    {
      "cell_type": "code",
      "source": [
        "#3のアウトプットノードに関連する重みを全部取って、28*28の2-Dに変換\n",
        "plt.imshow(np.reshape(keras_clf.get_weights()[0][:,3],(28,28)),cmap=\"seismic\")"
      ],
      "metadata": {
        "colab": {
          "base_uri": "https://localhost:8080/",
          "height": 286
        },
        "id": "_gPSYWfujNla",
        "outputId": "b78facac-a102-4db1-a849-3352d156e84a"
      },
      "execution_count": 31,
      "outputs": [
        {
          "output_type": "execute_result",
          "data": {
            "text/plain": [
              "<matplotlib.image.AxesImage at 0x7f8e1266be50>"
            ]
          },
          "metadata": {},
          "execution_count": 31
        },
        {
          "output_type": "display_data",
          "data": {
            "text/plain": [
              "<Figure size 432x288 with 1 Axes>"
            ],
            "image/png": "[encoded data removed]"
          },
          "metadata": {
            "needs_background": "light"
          }
        }
      ]
    },
    {
      "cell_type": "code",
      "source": [
        ""
      ],
      "metadata": {
        "id": "uHIX8NqujRNF"
      },
      "execution_count": null,
      "outputs": []
    }
  ]
}