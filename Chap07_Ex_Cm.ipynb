{
  "nbformat": 4,
  "nbformat_minor": 0,
  "metadata": {
    "colab": {
      "name": "Chap07_Ex_Cm",
      "provenance": [],
      "authorship_tag": "ABX9TyPKIJjpm95nH1ZFGkAa7IWT",
      "include_colab_link": true
    },
    "kernelspec": {
      "name": "python3",
      "display_name": "Python 3"
    },
    "language_info": {
      "name": "python"
    }
  },
  "cells": [
    {
      "cell_type": "markdown",
      "metadata": {
        "id": "view-in-github",
        "colab_type": "text"
      },
      "source": [
        "<a href=\"https://colab.research.google.com/github/sota-ogawa/TU-math-study/blob/main/Chap07_Ex_Cm.ipynb\" target=\"_parent\"><img src=\"https://colab.research.google.com/assets/colab-badge.svg\" alt=\"Open In Colab\"/></a>"
      ]
    },
    {
      "cell_type": "code",
      "source": [
        "# 以下のライブラリを使うので、あらかじめ読み込んでおいてください\n",
        "import numpy as np\n",
        "import numpy.random as random\n",
        "import scipy as sp\n",
        "import pandas as pd\n",
        "from pandas import Series,DataFrame\n",
        "\n",
        "# 可視化ライブラリ\n",
        "import matplotlib.pyplot as plt\n",
        "import matplotlib as mpl\n",
        "import seaborn as sns\n",
        "sns.set()\n",
        "%matplotlib inline\n",
        "\n",
        "# 小数第３位まで表示\n",
        "%precision 3"
      ],
      "metadata": {
        "colab": {
          "base_uri": "https://localhost:8080/",
          "height": 36
        },
        "id": "Z4b8ujtYhSnK",
        "outputId": "a9beec57-9670-423a-f3cc-9ac7d667ea6a"
      },
      "execution_count": 1,
      "outputs": [
        {
          "output_type": "execute_result",
          "data": {
            "text/plain": [
              "'%.3f'"
            ],
            "application/vnd.google.colaboratory.intrinsic+json": {
              "type": "string"
            }
          },
          "metadata": {},
          "execution_count": 1
        }
      ]
    },
    {
      "cell_type": "code",
      "execution_count": null,
      "metadata": {
        "id": "_cm2R482dS_t"
      },
      "outputs": [],
      "source": [
        "#必要なライブラリの読み込み\n",
        "import requests, zipfile\n",
        "from io import StringIO\n",
        "import io\n",
        "\n",
        "#必要なデータの読み込み\n",
        "url = 'http://archive.ics.uci.edu/ml/machine-learning-databases/00356/student.zip'\n",
        "\n",
        "r = requests.get(url, stream=True)\n",
        "\n",
        "z = zipfile.ZipFile(io.BytesIO(r.content))\n",
        "z.extractall()"
      ]
    },
    {
      "cell_type": "code",
      "source": [
        "#Chap07_Cm_01\n",
        "# 解答\n",
        "student_data_math = pd.read_csv('student-mat.csv',sep=';')\n",
        "student_data_math.groupby('reason').size().plot(kind='pie', autopct='%1.1f%%',startangle=90)\n",
        "plt.ylabel('')\n",
        "plt.axis('equal')"
      ],
      "metadata": {
        "colab": {
          "base_uri": "https://localhost:8080/",
          "height": 271
        },
        "id": "_Rs3pjczg0am",
        "outputId": "e0d53d67-86f6-489a-faf9-2917fb00cdd9"
      },
      "execution_count": null,
      "outputs": [
        {
          "output_type": "execute_result",
          "data": {
            "text/plain": [
              "(-1.119, 1.110, -1.104, 1.100)"
            ]
          },
          "metadata": {},
          "execution_count": 3
        },
        {
          "output_type": "display_data",
          "data": {
            "text/plain": [
              "<Figure size 432x288 with 1 Axes>"
            ],
            "image/png": "[encoded data removed]"
          },
          "metadata": {}
        }
      ]
    },
    {
      "cell_type": "code",
      "source": [
        "#Chap07_Cm_02\n",
        "# 解答\n",
        "student_data_math.groupby('higher')['G3'].mean().plot(kind='bar')\n",
        "plt.xlabel('higher')\n",
        "plt.ylabel('G3 grade avg')\n"
      ],
      "metadata": {
        "colab": {
          "base_uri": "https://localhost:8080/",
          "height": 312
        },
        "id": "h3NGSxQthpAW",
        "outputId": "cd2e00aa-f24d-45d3-b069-b02c40545673"
      },
      "execution_count": null,
      "outputs": [
        {
          "output_type": "execute_result",
          "data": {
            "text/plain": [
              "Text(0, 0.5, 'G3 grade avg')"
            ]
          },
          "metadata": {},
          "execution_count": 5
        },
        {
          "output_type": "display_data",
          "data": {
            "text/plain": [
              "<Figure size 432x288 with 1 Axes>"
            ],
            "image/png": "[encoded data removed]"
          },
          "metadata": {
            "needs_background": "light"
          }
        }
      ]
    },
    {
      "cell_type": "code",
      "source": [
        "#Chap07_Cm_03\n",
        "# 解答\n",
        "student_data_math.groupby(['traveltime'])['G3'].mean().plot(kind='barh')\n",
        "plt.xlabel('G3 Grade avg')\n"
      ],
      "metadata": {
        "colab": {
          "base_uri": "https://localhost:8080/",
          "height": 303
        },
        "id": "TchlufzuiE4s",
        "outputId": "de9a0f2e-7fbd-41cc-c125-5de2299d5e7b"
      },
      "execution_count": null,
      "outputs": [
        {
          "output_type": "execute_result",
          "data": {
            "text/plain": [
              "Text(0.5, 0, 'G3 Grade avg')"
            ]
          },
          "metadata": {},
          "execution_count": 6
        },
        {
          "output_type": "display_data",
          "data": {
            "text/plain": [
              "<Figure size 432x288 with 1 Axes>"
            ],
            "image/png": "[encoded data removed]"
          },
          "metadata": {
            "needs_background": "light"
          }
        }
      ]
    },
    {
      "cell_type": "code",
      "source": [
        "#Chap07_Ex_01\n",
        "# データの取得\n",
        "import requests, zipfile\n",
        "from io import StringIO\n",
        "import io\n",
        "\n",
        "# url \n",
        "zip_file_url = 'https://archive.ics.uci.edu/ml/machine-learning-databases/00312/dow_jones_index.zip'\n",
        "r = requests.get(zip_file_url, stream=True)\n",
        "z = zipfile.ZipFile(io.BytesIO(r.content))\n",
        "# 展開\n",
        "z.extractall()\n",
        "\n",
        "# データの読み込み\n",
        "dow_jones_index = pd.read_csv('dow_jones_index.data',sep=',')\n",
        "\n",
        "# 初めの5行の確認\n",
        "dow_jones_index.head()\n",
        "\n",
        "# データの情報\n",
        "dow_jones_index.info()"
      ],
      "metadata": {
        "colab": {
          "base_uri": "https://localhost:8080/"
        },
        "id": "id7LqezBiQsP",
        "outputId": "aaa7edd5-76ec-4ab8-9b1b-7242636534f3"
      },
      "execution_count": null,
      "outputs": [
        {
          "output_type": "stream",
          "name": "stdout",
          "text": [
            "<class 'pandas.core.frame.DataFrame'>\n",
            "RangeIndex: 750 entries, 0 to 749\n",
            "Data columns (total 16 columns):\n",
            " #   Column                              Non-Null Count  Dtype  \n",
            "---  ------                              --------------  -----  \n",
            " 0   quarter                             750 non-null    int64  \n",
            " 1   stock                               750 non-null    object \n",
            " 2   date                                750 non-null    object \n",
            " 3   open                                750 non-null    object \n",
            " 4   high                                750 non-null    object \n",
            " 5   low                                 750 non-null    object \n",
            " 6   close                               750 non-null    object \n",
            " 7   volume                              750 non-null    int64  \n",
            " 8   percent_change_price                750 non-null    float64\n",
            " 9   percent_change_volume_over_last_wk  720 non-null    float64\n",
            " 10  previous_weeks_volume               720 non-null    float64\n",
            " 11  next_weeks_open                     750 non-null    object \n",
            " 12  next_weeks_close                    750 non-null    object \n",
            " 13  percent_change_next_weeks_price     750 non-null    float64\n",
            " 14  days_to_next_dividend               750 non-null    int64  \n",
            " 15  percent_return_next_dividend        750 non-null    float64\n",
            "dtypes: float64(5), int64(3), object(8)\n",
            "memory usage: 93.9+ KB\n"
          ]
        }
      ]
    },
    {
      "cell_type": "code",
      "source": [
        ""
      ],
      "metadata": {
        "id": "oFLnCVZxkHb6"
      },
      "execution_count": null,
      "outputs": []
    }
  ]
}