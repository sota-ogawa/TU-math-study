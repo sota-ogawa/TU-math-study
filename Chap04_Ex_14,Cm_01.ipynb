{
  "nbformat": 4,
  "nbformat_minor": 0,
  "metadata": {
    "colab": {
      "name": "Chap04_Ex-14,Cm-01",
      "provenance": [],
      "authorship_tag": "ABX9TyNsQzbzGJS7ttjjGJigXVyx",
      "include_colab_link": true
    },
    "kernelspec": {
      "name": "python3",
      "display_name": "Python 3"
    },
    "language_info": {
      "name": "python"
    }
  },
  "cells": [
    {
      "cell_type": "markdown",
      "metadata": {
        "id": "view-in-github",
        "colab_type": "text"
      },
      "source": [
        "<a href=\"https://colab.research.google.com/github/sota-ogawa/TU-math-study/blob/main/Chap04_Ex_14%2CCm_01.ipynb\" target=\"_parent\"><img src=\"https://colab.research.google.com/assets/colab-badge.svg\" alt=\"Open In Colab\"/></a>"
      ]
    },
    {
      "cell_type": "code",
      "execution_count": null,
      "metadata": {
        "id": "2_A_WrD5Yxem"
      },
      "outputs": [],
      "source": [
        "#必要なライブラリの読み込み\n",
        "import requests, zipfile\n",
        "from io import StringIO\n",
        "import io\n",
        "\n",
        "#必要なデータの読み込み\n",
        "url = 'http://archive.ics.uci.edu/ml/machine-learning-databases/00356/student.zip'\n",
        "\n",
        "r = requests.get(url, stream=True)\n",
        "\n",
        "z = zipfile.ZipFile(io.BytesIO(r.content))\n",
        "z.extractall()"
      ]
    },
    {
      "cell_type": "code",
      "source": [
        "#Chap04_Ex-14\n",
        "from scipy import stats\n",
        "import pandas as pd\n",
        "\n",
        "#数学及びポルトガルのデータを読み込む\n",
        "student_data_math = pd.read_csv('student-mat.csv', sep=';')\n",
        "student_data_por = pd.read_csv('student-por.csv', sep=';')\n",
        "#マージする\n",
        "student_data_merge = pd.merge(student_data_math\n",
        "                              , student_data_por\n",
        "                              , on=['school', 'sex', 'age', 'address', 'famsize', 'Pstatus', 'Medu'\n",
        "                                      , 'Fedu', 'Mjob', 'Fjob', 'reason', 'nursery', 'internet']\n",
        "                              , suffixes=('_math', '_por'))\n",
        "\n",
        "\n",
        "print('G2数学の成績平均：',student_data_merge.G2_math.mean())\n",
        "print('G2ポルトガル語の成績平均：',student_data_merge.G2_por.mean())\n",
        "\n",
        "t, p = stats.ttest_rel(student_data_merge.G2_math, student_data_merge.G2_por)\n",
        "print( 'p値 =',p )\n",
        "\n",
        "print('G3数学の成績平均：',student_data_merge.G3_math.mean())\n",
        "print('G3ポルトガル語の成績平均：',student_data_merge.G3_por.mean())\n",
        "\n",
        "t, p = stats.ttest_rel(student_data_merge.G3_math, student_data_merge.G3_por)\n",
        "print( 'p値 = ',p )\n",
        "\n",
        "#どちらも1%未満であるため差があると結論付ける"
      ],
      "metadata": {
        "colab": {
          "base_uri": "https://localhost:8080/"
        },
        "id": "tBnsH6QYY3zb",
        "outputId": "00bf0599-2829-4dc3-a01a-db9b88ab6d1c"
      },
      "execution_count": null,
      "outputs": [
        {
          "output_type": "stream",
          "name": "stdout",
          "text": [
            "G2数学の成績平均： 10.712041884816754\n",
            "G2ポルトガル語の成績平均： 12.238219895287958\n",
            "p値 = 4.0622824801348043e-19\n",
            "G3数学の成績平均： 10.387434554973822\n",
            "G3ポルトガル語の成績平均： 12.515706806282722\n",
            "p値 =  5.561492113688385e-21\n"
          ]
        }
      ]
    },
    {
      "cell_type": "code",
      "source": [
        "#Chap04_Cm-01-(1)\n",
        "print('数学の欠席数平均：',student_data_merge.absences_math.mean())\n",
        "print('ポルトガル語の欠席平均：',student_data_merge.absences_por.mean())\n",
        "\n",
        "t, p = stats.ttest_rel(student_data_merge.absences_math, student_data_merge.absences_por)\n",
        "print( 'p値 = ',p )\n",
        "#1%未満であるため差があると結論付ける"
      ],
      "metadata": {
        "colab": {
          "base_uri": "https://localhost:8080/"
        },
        "id": "xfCl5o0LZPyb",
        "outputId": "2123bb01-f397-43f6-e778-d7919143d95e"
      },
      "execution_count": null,
      "outputs": [
        {
          "output_type": "stream",
          "name": "stdout",
          "text": [
            "数学の欠席数平均： 5.319371727748691\n",
            "ポルトガル語の欠席平均： 3.6727748691099475\n",
            "p値 =  2.3441656888384195e-06\n"
          ]
        }
      ]
    },
    {
      "cell_type": "code",
      "source": [
        "#Chap04_Cm-01-(2)\n",
        "print('数学の勉強時間平均：',student_data_merge.studytime_math.mean())\n",
        "print('ポルトガル語の勉強時間平均：',student_data_merge.studytime_por.mean())\n",
        "\n",
        "t, p = stats.ttest_rel(student_data_merge.studytime_math, student_data_merge.studytime_por)\n",
        "print( 'p値 = ',p)\n",
        "#差があるとは言えない"
      ],
      "metadata": {
        "colab": {
          "base_uri": "https://localhost:8080/"
        },
        "id": "6_1OsHw4Za4V",
        "outputId": "789869df-9c4d-44b8-f67b-fe363ef4c1a1"
      },
      "execution_count": null,
      "outputs": [
        {
          "output_type": "stream",
          "name": "stdout",
          "text": [
            "数学の勉強時間平均： 2.0340314136125652\n",
            "ポルトガル語の勉強時間平均： 2.0392670157068062\n",
            "p値 =  0.5643842756976525\n"
          ]
        }
      ]
    },
    {
      "cell_type": "code",
      "source": [
        ""
      ],
      "metadata": {
        "id": "0bGZ8Vk5Zg3h"
      },
      "execution_count": null,
      "outputs": []
    }
  ]
}